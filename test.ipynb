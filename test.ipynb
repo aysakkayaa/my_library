from my_library import TextPredictor

# Initialize the TextPredictor with Qdrant URL and collection name
predictor = TextPredictor(qdrant_url="localhost", collection_name="my_collection")
