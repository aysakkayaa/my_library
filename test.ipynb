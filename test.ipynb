{
 "cells": [
  {
   "cell_type": "code",
   "execution_count": 3,
   "metadata": {},
   "outputs": [],
   "source": [
    "from my_library import TextPredictor\n",
    "\n",
    "# Initialize the TextPredictor with Qdrant URL and collection name\n",
    "predictor = TextPredictor(qdrant_url=\"localhost\", collection_name=\"my_collection\")\n"
   ]
  },
  {
   "cell_type": "code",
   "execution_count": 4,
   "metadata": {},
   "outputs": [],
   "source": [
    "# Load data, train the model, and search for similar texts\n",
    "predictor.load_and_prepare_data(\"genel_data_merged.xlsx\") # your data path or name in for project"
   ]
  },
  {
   "cell_type": "code",
   "execution_count": 5,
   "metadata": {},
   "outputs": [],
   "source": [
    "results = predictor.predict_test_set(limit=3)"
   ]
  },
  {
   "cell_type": "code",
   "execution_count": null,
   "metadata": {},
   "outputs": [],
   "source": [
    "# Print the results\n",
    "print(results)"
   ]
  },
  {
   "cell_type": "code",
   "execution_count": null,
   "metadata": {},
   "outputs": [],
   "source": [
    "# Print result\n",
    "for result in results:\n",
    "    print(f\"Girdi: {result['input_text']}\")\n",
    "    print(\"En Benzer Cümleler ve İlgili Bilgiler:\")\n",
    "    for match in result['matches']:\n",
    "        print(f\"Text: {match['text']}\")\n",
    "        print(f\"Level 0: {match['level_0']}\")\n",
    "        print(f\"Level 1: {match['level_1']}\")\n",
    "        print(f\"Level 2: {match['level_2']}\")\n",
    "        print(f\"Level 3: {match['level_3']}\")\n",
    "        print(f\"Level 4: {match['level_4']}\")\n",
    "        print(f\"Label: {match['label']}\")\n",
    "        print(\"-\" * 20)\n",
    "    print(\"=\" * 50)"
   ]
  }
 ],
 "metadata": {
  "kernelspec": {
   "display_name": "my_library",
   "language": "python",
   "name": "python3"
  },
  "language_info": {
   "codemirror_mode": {
    "name": "ipython",
    "version": 3
   },
   "file_extension": ".py",
   "mimetype": "text/x-python",
   "name": "python",
   "nbconvert_exporter": "python",
   "pygments_lexer": "ipython3",
   "version": "3.12.5"
  }
 },
 "nbformat": 4,
 "nbformat_minor": 2
}
